{
 "cells": [
  {
   "cell_type": "code",
   "execution_count": 3,
   "metadata": {},
   "outputs": [],
   "source": [
    "import pandas as pd\n",
    "import numpy as np"
   ]
  },
  {
   "cell_type": "code",
   "execution_count": 51,
   "metadata": {
    "id": "eYoGE4QYjsCx"
   },
   "outputs": [
    {
     "name": "stderr",
     "output_type": "stream",
     "text": [
      "/home/markov/anaconda3/lib/python3.7/site-packages/numpy/lib/arraysetops.py:580: FutureWarning: elementwise comparison failed; returning scalar instead, but in the future will perform elementwise comparison\n",
      "  mask |= (ar1 == a)\n"
     ]
    }
   ],
   "source": [
    "transactions_data = pd.read_csv('transactions.csv', index_col = 0)\n",
    "clients_data = pd.read_csv('clients.csv', header = 0)\n",
    "materials_data = pd.read_csv('materials.csv', header = 0)\n",
    "plants_data = pd.read_csv('plants.csv', header = 0)"
   ]
  },
  {
   "cell_type": "code",
   "execution_count": 52,
   "metadata": {
    "colab": {
     "base_uri": "https://localhost:8080/",
     "height": 626
    },
    "id": "dInbWUtJoQ1_",
    "outputId": "e898a04e-3d68-4329-bfed-f70c79308e6d"
   },
   "outputs": [
    {
     "data": {
      "text/html": [
       "<div>\n",
       "<style scoped>\n",
       "    .dataframe tbody tr th:only-of-type {\n",
       "        vertical-align: middle;\n",
       "    }\n",
       "\n",
       "    .dataframe tbody tr th {\n",
       "        vertical-align: top;\n",
       "    }\n",
       "\n",
       "    .dataframe thead th {\n",
       "        text-align: right;\n",
       "    }\n",
       "</style>\n",
       "<table border=\"1\" class=\"dataframe\">\n",
       "  <thead>\n",
       "    <tr style=\"text-align: right;\">\n",
       "      <th></th>\n",
       "      <th>chq_id</th>\n",
       "      <th>plant</th>\n",
       "      <th>chq_date</th>\n",
       "      <th>chq_position</th>\n",
       "      <th>client_id</th>\n",
       "      <th>material</th>\n",
       "      <th>sales_count</th>\n",
       "      <th>sales_sum</th>\n",
       "      <th>is_promo</th>\n",
       "    </tr>\n",
       "  </thead>\n",
       "  <tbody>\n",
       "    <tr>\n",
       "      <th>0</th>\n",
       "      <td>ce5b3d1c531348c5d0d8e859b6d0cf91</td>\n",
       "      <td>7cd86ecb09aa48c6e620b340f6a74592</td>\n",
       "      <td>2016-11-01</td>\n",
       "      <td>4</td>\n",
       "      <td>90fca68123e692a005a4edeadd94b2f2</td>\n",
       "      <td>232cfe8b28970434f685b737737b26d4</td>\n",
       "      <td>2.0</td>\n",
       "      <td>146.98</td>\n",
       "      <td>0</td>\n",
       "    </tr>\n",
       "    <tr>\n",
       "      <th>1</th>\n",
       "      <td>ce5b3d1c531348c5d0d8e859b6d0cf91</td>\n",
       "      <td>7cd86ecb09aa48c6e620b340f6a74592</td>\n",
       "      <td>2016-11-01</td>\n",
       "      <td>3</td>\n",
       "      <td>90fca68123e692a005a4edeadd94b2f2</td>\n",
       "      <td>12ec64451b8e426db16f3f05ea770901</td>\n",
       "      <td>1.0</td>\n",
       "      <td>249.99</td>\n",
       "      <td>1</td>\n",
       "    </tr>\n",
       "    <tr>\n",
       "      <th>2</th>\n",
       "      <td>ce5b3d1c531348c5d0d8e859b6d0cf91</td>\n",
       "      <td>7cd86ecb09aa48c6e620b340f6a74592</td>\n",
       "      <td>2016-11-01</td>\n",
       "      <td>12</td>\n",
       "      <td>90fca68123e692a005a4edeadd94b2f2</td>\n",
       "      <td>1212ff8ecf53aebef093ca8ae216db68</td>\n",
       "      <td>1.0</td>\n",
       "      <td>47.99</td>\n",
       "      <td>1</td>\n",
       "    </tr>\n",
       "    <tr>\n",
       "      <th>3</th>\n",
       "      <td>ce5b3d1c531348c5d0d8e859b6d0cf91</td>\n",
       "      <td>7cd86ecb09aa48c6e620b340f6a74592</td>\n",
       "      <td>2016-11-01</td>\n",
       "      <td>13</td>\n",
       "      <td>90fca68123e692a005a4edeadd94b2f2</td>\n",
       "      <td>1212ff8ecf53aebef093ca8ae216db68</td>\n",
       "      <td>1.0</td>\n",
       "      <td>47.99</td>\n",
       "      <td>1</td>\n",
       "    </tr>\n",
       "    <tr>\n",
       "      <th>4</th>\n",
       "      <td>ce5b3d1c531348c5d0d8e859b6d0cf91</td>\n",
       "      <td>7cd86ecb09aa48c6e620b340f6a74592</td>\n",
       "      <td>2016-11-01</td>\n",
       "      <td>11</td>\n",
       "      <td>90fca68123e692a005a4edeadd94b2f2</td>\n",
       "      <td>571c6d3b559db8445e05265649eb30ab</td>\n",
       "      <td>2.0</td>\n",
       "      <td>53.98</td>\n",
       "      <td>1</td>\n",
       "    </tr>\n",
       "  </tbody>\n",
       "</table>\n",
       "</div>"
      ],
      "text/plain": [
       "                             chq_id                             plant  \\\n",
       "0  ce5b3d1c531348c5d0d8e859b6d0cf91  7cd86ecb09aa48c6e620b340f6a74592   \n",
       "1  ce5b3d1c531348c5d0d8e859b6d0cf91  7cd86ecb09aa48c6e620b340f6a74592   \n",
       "2  ce5b3d1c531348c5d0d8e859b6d0cf91  7cd86ecb09aa48c6e620b340f6a74592   \n",
       "3  ce5b3d1c531348c5d0d8e859b6d0cf91  7cd86ecb09aa48c6e620b340f6a74592   \n",
       "4  ce5b3d1c531348c5d0d8e859b6d0cf91  7cd86ecb09aa48c6e620b340f6a74592   \n",
       "\n",
       "     chq_date  chq_position                         client_id  \\\n",
       "0  2016-11-01             4  90fca68123e692a005a4edeadd94b2f2   \n",
       "1  2016-11-01             3  90fca68123e692a005a4edeadd94b2f2   \n",
       "2  2016-11-01            12  90fca68123e692a005a4edeadd94b2f2   \n",
       "3  2016-11-01            13  90fca68123e692a005a4edeadd94b2f2   \n",
       "4  2016-11-01            11  90fca68123e692a005a4edeadd94b2f2   \n",
       "\n",
       "                           material  sales_count  sales_sum  is_promo  \n",
       "0  232cfe8b28970434f685b737737b26d4          2.0     146.98         0  \n",
       "1  12ec64451b8e426db16f3f05ea770901          1.0     249.99         1  \n",
       "2  1212ff8ecf53aebef093ca8ae216db68          1.0      47.99         1  \n",
       "3  1212ff8ecf53aebef093ca8ae216db68          1.0      47.99         1  \n",
       "4  571c6d3b559db8445e05265649eb30ab          2.0      53.98         1  "
      ]
     },
     "execution_count": 52,
     "metadata": {},
     "output_type": "execute_result"
    }
   ],
   "source": [
    "transactions_data.head() #.head(3)"
   ]
  },
  {
   "cell_type": "code",
   "execution_count": 11,
   "metadata": {
    "colab": {
     "base_uri": "https://localhost:8080/",
     "height": 450
    },
    "id": "MKOXATBVpy34",
    "outputId": "30ae3370-d8a8-4cbc-c575-0c2b459a3ec0"
   },
   "outputs": [
    {
     "data": {
      "text/html": [
       "<div>\n",
       "<style scoped>\n",
       "    .dataframe tbody tr th:only-of-type {\n",
       "        vertical-align: middle;\n",
       "    }\n",
       "\n",
       "    .dataframe tbody tr th {\n",
       "        vertical-align: top;\n",
       "    }\n",
       "\n",
       "    .dataframe thead th {\n",
       "        text-align: right;\n",
       "    }\n",
       "</style>\n",
       "<table border=\"1\" class=\"dataframe\">\n",
       "  <thead>\n",
       "    <tr style=\"text-align: right;\">\n",
       "      <th></th>\n",
       "      <th></th>\n",
       "      <th>Unnamed: 0</th>\n",
       "      <th>chq_id</th>\n",
       "      <th>plant</th>\n",
       "      <th>chq_date</th>\n",
       "      <th>chq_position</th>\n",
       "      <th>sales_count</th>\n",
       "      <th>sales_sum</th>\n",
       "      <th>is_promo</th>\n",
       "    </tr>\n",
       "    <tr>\n",
       "      <th>client_id</th>\n",
       "      <th>material</th>\n",
       "      <th></th>\n",
       "      <th></th>\n",
       "      <th></th>\n",
       "      <th></th>\n",
       "      <th></th>\n",
       "      <th></th>\n",
       "      <th></th>\n",
       "      <th></th>\n",
       "    </tr>\n",
       "  </thead>\n",
       "  <tbody>\n",
       "    <tr>\n",
       "      <th rowspan=\"5\" valign=\"top\">0000d48a8891cd462fdf01ea861ec53e</th>\n",
       "      <th>0035c505fea20479301f4eefbbeb9dfe</th>\n",
       "      <td>1</td>\n",
       "      <td>1</td>\n",
       "      <td>1</td>\n",
       "      <td>1</td>\n",
       "      <td>1</td>\n",
       "      <td>1</td>\n",
       "      <td>1</td>\n",
       "      <td>1</td>\n",
       "    </tr>\n",
       "    <tr>\n",
       "      <th>00a84aa181787e5c6c066e4893101eff</th>\n",
       "      <td>1</td>\n",
       "      <td>1</td>\n",
       "      <td>1</td>\n",
       "      <td>1</td>\n",
       "      <td>1</td>\n",
       "      <td>1</td>\n",
       "      <td>1</td>\n",
       "      <td>1</td>\n",
       "    </tr>\n",
       "    <tr>\n",
       "      <th>00c5d51c9029b72cfe32b3935f4685ac</th>\n",
       "      <td>1</td>\n",
       "      <td>1</td>\n",
       "      <td>1</td>\n",
       "      <td>1</td>\n",
       "      <td>1</td>\n",
       "      <td>1</td>\n",
       "      <td>1</td>\n",
       "      <td>1</td>\n",
       "    </tr>\n",
       "    <tr>\n",
       "      <th>022b4e269fa2471dcb53a8fdb3d7012a</th>\n",
       "      <td>1</td>\n",
       "      <td>1</td>\n",
       "      <td>1</td>\n",
       "      <td>1</td>\n",
       "      <td>1</td>\n",
       "      <td>1</td>\n",
       "      <td>1</td>\n",
       "      <td>1</td>\n",
       "    </tr>\n",
       "    <tr>\n",
       "      <th>03d7d45eadbe0d766de12bf1b9e46326</th>\n",
       "      <td>1</td>\n",
       "      <td>1</td>\n",
       "      <td>1</td>\n",
       "      <td>1</td>\n",
       "      <td>1</td>\n",
       "      <td>1</td>\n",
       "      <td>1</td>\n",
       "      <td>1</td>\n",
       "    </tr>\n",
       "    <tr>\n",
       "      <th>...</th>\n",
       "      <th>...</th>\n",
       "      <td>...</td>\n",
       "      <td>...</td>\n",
       "      <td>...</td>\n",
       "      <td>...</td>\n",
       "      <td>...</td>\n",
       "      <td>...</td>\n",
       "      <td>...</td>\n",
       "      <td>...</td>\n",
       "    </tr>\n",
       "    <tr>\n",
       "      <th rowspan=\"5\" valign=\"top\">fffd3e78e3ea6bf00aee1372efc09dad</th>\n",
       "      <th>c4e18a3b0479e5ce5fc1ca34ebe1e025</th>\n",
       "      <td>1</td>\n",
       "      <td>1</td>\n",
       "      <td>1</td>\n",
       "      <td>1</td>\n",
       "      <td>1</td>\n",
       "      <td>1</td>\n",
       "      <td>1</td>\n",
       "      <td>1</td>\n",
       "    </tr>\n",
       "    <tr>\n",
       "      <th>ccb92be59ce7e5f3371b0dea5e871a9b</th>\n",
       "      <td>1</td>\n",
       "      <td>1</td>\n",
       "      <td>1</td>\n",
       "      <td>1</td>\n",
       "      <td>1</td>\n",
       "      <td>1</td>\n",
       "      <td>1</td>\n",
       "      <td>1</td>\n",
       "    </tr>\n",
       "    <tr>\n",
       "      <th>dd66f8641179a8a80a96de9d04474d5f</th>\n",
       "      <td>1</td>\n",
       "      <td>1</td>\n",
       "      <td>1</td>\n",
       "      <td>1</td>\n",
       "      <td>1</td>\n",
       "      <td>1</td>\n",
       "      <td>1</td>\n",
       "      <td>1</td>\n",
       "    </tr>\n",
       "    <tr>\n",
       "      <th>e89e34f478fbc99946179da50461eb00</th>\n",
       "      <td>1</td>\n",
       "      <td>1</td>\n",
       "      <td>1</td>\n",
       "      <td>1</td>\n",
       "      <td>1</td>\n",
       "      <td>1</td>\n",
       "      <td>1</td>\n",
       "      <td>1</td>\n",
       "    </tr>\n",
       "    <tr>\n",
       "      <th>f27d1e86a3fdddc3efea8d9b460376aa</th>\n",
       "      <td>1</td>\n",
       "      <td>1</td>\n",
       "      <td>1</td>\n",
       "      <td>1</td>\n",
       "      <td>1</td>\n",
       "      <td>1</td>\n",
       "      <td>1</td>\n",
       "      <td>1</td>\n",
       "    </tr>\n",
       "  </tbody>\n",
       "</table>\n",
       "<p>20118398 rows × 8 columns</p>\n",
       "</div>"
      ],
      "text/plain": [
       "                                                                   Unnamed: 0  \\\n",
       "client_id                        material                                       \n",
       "0000d48a8891cd462fdf01ea861ec53e 0035c505fea20479301f4eefbbeb9dfe           1   \n",
       "                                 00a84aa181787e5c6c066e4893101eff           1   \n",
       "                                 00c5d51c9029b72cfe32b3935f4685ac           1   \n",
       "                                 022b4e269fa2471dcb53a8fdb3d7012a           1   \n",
       "                                 03d7d45eadbe0d766de12bf1b9e46326           1   \n",
       "...                                                                       ...   \n",
       "fffd3e78e3ea6bf00aee1372efc09dad c4e18a3b0479e5ce5fc1ca34ebe1e025           1   \n",
       "                                 ccb92be59ce7e5f3371b0dea5e871a9b           1   \n",
       "                                 dd66f8641179a8a80a96de9d04474d5f           1   \n",
       "                                 e89e34f478fbc99946179da50461eb00           1   \n",
       "                                 f27d1e86a3fdddc3efea8d9b460376aa           1   \n",
       "\n",
       "                                                                   chq_id  \\\n",
       "client_id                        material                                   \n",
       "0000d48a8891cd462fdf01ea861ec53e 0035c505fea20479301f4eefbbeb9dfe       1   \n",
       "                                 00a84aa181787e5c6c066e4893101eff       1   \n",
       "                                 00c5d51c9029b72cfe32b3935f4685ac       1   \n",
       "                                 022b4e269fa2471dcb53a8fdb3d7012a       1   \n",
       "                                 03d7d45eadbe0d766de12bf1b9e46326       1   \n",
       "...                                                                   ...   \n",
       "fffd3e78e3ea6bf00aee1372efc09dad c4e18a3b0479e5ce5fc1ca34ebe1e025       1   \n",
       "                                 ccb92be59ce7e5f3371b0dea5e871a9b       1   \n",
       "                                 dd66f8641179a8a80a96de9d04474d5f       1   \n",
       "                                 e89e34f478fbc99946179da50461eb00       1   \n",
       "                                 f27d1e86a3fdddc3efea8d9b460376aa       1   \n",
       "\n",
       "                                                                   plant  \\\n",
       "client_id                        material                                  \n",
       "0000d48a8891cd462fdf01ea861ec53e 0035c505fea20479301f4eefbbeb9dfe      1   \n",
       "                                 00a84aa181787e5c6c066e4893101eff      1   \n",
       "                                 00c5d51c9029b72cfe32b3935f4685ac      1   \n",
       "                                 022b4e269fa2471dcb53a8fdb3d7012a      1   \n",
       "                                 03d7d45eadbe0d766de12bf1b9e46326      1   \n",
       "...                                                                  ...   \n",
       "fffd3e78e3ea6bf00aee1372efc09dad c4e18a3b0479e5ce5fc1ca34ebe1e025      1   \n",
       "                                 ccb92be59ce7e5f3371b0dea5e871a9b      1   \n",
       "                                 dd66f8641179a8a80a96de9d04474d5f      1   \n",
       "                                 e89e34f478fbc99946179da50461eb00      1   \n",
       "                                 f27d1e86a3fdddc3efea8d9b460376aa      1   \n",
       "\n",
       "                                                                   chq_date  \\\n",
       "client_id                        material                                     \n",
       "0000d48a8891cd462fdf01ea861ec53e 0035c505fea20479301f4eefbbeb9dfe         1   \n",
       "                                 00a84aa181787e5c6c066e4893101eff         1   \n",
       "                                 00c5d51c9029b72cfe32b3935f4685ac         1   \n",
       "                                 022b4e269fa2471dcb53a8fdb3d7012a         1   \n",
       "                                 03d7d45eadbe0d766de12bf1b9e46326         1   \n",
       "...                                                                     ...   \n",
       "fffd3e78e3ea6bf00aee1372efc09dad c4e18a3b0479e5ce5fc1ca34ebe1e025         1   \n",
       "                                 ccb92be59ce7e5f3371b0dea5e871a9b         1   \n",
       "                                 dd66f8641179a8a80a96de9d04474d5f         1   \n",
       "                                 e89e34f478fbc99946179da50461eb00         1   \n",
       "                                 f27d1e86a3fdddc3efea8d9b460376aa         1   \n",
       "\n",
       "                                                                   chq_position  \\\n",
       "client_id                        material                                         \n",
       "0000d48a8891cd462fdf01ea861ec53e 0035c505fea20479301f4eefbbeb9dfe             1   \n",
       "                                 00a84aa181787e5c6c066e4893101eff             1   \n",
       "                                 00c5d51c9029b72cfe32b3935f4685ac             1   \n",
       "                                 022b4e269fa2471dcb53a8fdb3d7012a             1   \n",
       "                                 03d7d45eadbe0d766de12bf1b9e46326             1   \n",
       "...                                                                         ...   \n",
       "fffd3e78e3ea6bf00aee1372efc09dad c4e18a3b0479e5ce5fc1ca34ebe1e025             1   \n",
       "                                 ccb92be59ce7e5f3371b0dea5e871a9b             1   \n",
       "                                 dd66f8641179a8a80a96de9d04474d5f             1   \n",
       "                                 e89e34f478fbc99946179da50461eb00             1   \n",
       "                                 f27d1e86a3fdddc3efea8d9b460376aa             1   \n",
       "\n",
       "                                                                   sales_count  \\\n",
       "client_id                        material                                        \n",
       "0000d48a8891cd462fdf01ea861ec53e 0035c505fea20479301f4eefbbeb9dfe            1   \n",
       "                                 00a84aa181787e5c6c066e4893101eff            1   \n",
       "                                 00c5d51c9029b72cfe32b3935f4685ac            1   \n",
       "                                 022b4e269fa2471dcb53a8fdb3d7012a            1   \n",
       "                                 03d7d45eadbe0d766de12bf1b9e46326            1   \n",
       "...                                                                        ...   \n",
       "fffd3e78e3ea6bf00aee1372efc09dad c4e18a3b0479e5ce5fc1ca34ebe1e025            1   \n",
       "                                 ccb92be59ce7e5f3371b0dea5e871a9b            1   \n",
       "                                 dd66f8641179a8a80a96de9d04474d5f            1   \n",
       "                                 e89e34f478fbc99946179da50461eb00            1   \n",
       "                                 f27d1e86a3fdddc3efea8d9b460376aa            1   \n",
       "\n",
       "                                                                   sales_sum  \\\n",
       "client_id                        material                                      \n",
       "0000d48a8891cd462fdf01ea861ec53e 0035c505fea20479301f4eefbbeb9dfe          1   \n",
       "                                 00a84aa181787e5c6c066e4893101eff          1   \n",
       "                                 00c5d51c9029b72cfe32b3935f4685ac          1   \n",
       "                                 022b4e269fa2471dcb53a8fdb3d7012a          1   \n",
       "                                 03d7d45eadbe0d766de12bf1b9e46326          1   \n",
       "...                                                                      ...   \n",
       "fffd3e78e3ea6bf00aee1372efc09dad c4e18a3b0479e5ce5fc1ca34ebe1e025          1   \n",
       "                                 ccb92be59ce7e5f3371b0dea5e871a9b          1   \n",
       "                                 dd66f8641179a8a80a96de9d04474d5f          1   \n",
       "                                 e89e34f478fbc99946179da50461eb00          1   \n",
       "                                 f27d1e86a3fdddc3efea8d9b460376aa          1   \n",
       "\n",
       "                                                                   is_promo  \n",
       "client_id                        material                                    \n",
       "0000d48a8891cd462fdf01ea861ec53e 0035c505fea20479301f4eefbbeb9dfe         1  \n",
       "                                 00a84aa181787e5c6c066e4893101eff         1  \n",
       "                                 00c5d51c9029b72cfe32b3935f4685ac         1  \n",
       "                                 022b4e269fa2471dcb53a8fdb3d7012a         1  \n",
       "                                 03d7d45eadbe0d766de12bf1b9e46326         1  \n",
       "...                                                                     ...  \n",
       "fffd3e78e3ea6bf00aee1372efc09dad c4e18a3b0479e5ce5fc1ca34ebe1e025         1  \n",
       "                                 ccb92be59ce7e5f3371b0dea5e871a9b         1  \n",
       "                                 dd66f8641179a8a80a96de9d04474d5f         1  \n",
       "                                 e89e34f478fbc99946179da50461eb00         1  \n",
       "                                 f27d1e86a3fdddc3efea8d9b460376aa         1  \n",
       "\n",
       "[20118398 rows x 8 columns]"
      ]
     },
     "execution_count": 11,
     "metadata": {},
     "output_type": "execute_result"
    }
   ],
   "source": [
    "freq = transactions_data.groupby(['client_id','material']).count()\n",
    "freq"
   ]
  },
  {
   "cell_type": "code",
   "execution_count": 12,
   "metadata": {
    "colab": {
     "base_uri": "https://localhost:8080/",
     "height": 238
    },
    "id": "Fz_p74uR2LSJ",
    "outputId": "e5c7cfda-fe96-4c0f-fcbb-7885ea7d7bdc"
   },
   "outputs": [
    {
     "data": {
      "text/plain": [
       "client_id                         material                        \n",
       "0000d48a8891cd462fdf01ea861ec53e  254f1eba1181248807d128842b566bf9     76.000\n",
       "00028a1dcb30863404a386961a69300e  b75147feae4cf8ec07fb5f2cef855def     43.000\n",
       "0004274683494a9eca5e70ef97299d55  6eaa9bd12a43a4d79badd51a62ac3d76     84.000\n",
       "00072f81efcb3481861f7300c5e2a88a  29f1a40e5f2df9968c5f7430d3891bf4     10.000\n",
       "00076596eb749cf10c2e984621dffe95  6278f48a43fb0a23036b3a11c92e726c    198.954\n",
       "                                                                       ...   \n",
       "fffb2f36eb72ff56d2ef7a2685714f01  142d63107737a448dc2dfe2dcd0154b8     27.000\n",
       "fffb50df95231c0f090b5aa3f5332c7f  0630c162a89ae0a9e4aa379a574a3158     16.690\n",
       "fffc3f2be1422d248dbeda4196ef0711  8b682bcb4f749727567ba031cd7fcc36     46.000\n",
       "fffc477269ae5f219e39aa51fa7abb81  5bb4a399ac4f74d07248fa123e3f3237     24.000\n",
       "fffd3e78e3ea6bf00aee1372efc09dad  00fe8d0e1338dadc7038bf0434468cfb      2.000\n",
       "Name: sales_count, Length: 100000, dtype: float64"
      ]
     },
     "execution_count": 12,
     "metadata": {},
     "output_type": "execute_result"
    }
   ],
   "source": [
    "clientmat_count = transactions_data.loc[:,['client_id','material','sales_count']]\n",
    "a = clientmat_count.groupby(['client_id','material']).sum()\n",
    "g = a['sales_count'].groupby(level=0, group_keys=False)\n",
    "res = g.apply(lambda x: x.sort_values(ascending=False).head(1))\n",
    "res # the most frequent item for each customer"
   ]
  },
  {
   "cell_type": "code",
   "execution_count": 19,
   "metadata": {},
   "outputs": [],
   "source": [
    "new_res = pd.DataFrame(res)"
   ]
  },
  {
   "cell_type": "code",
   "execution_count": 21,
   "metadata": {},
   "outputs": [],
   "source": [
    "new_res = new_res.reset_index()"
   ]
  },
  {
   "cell_type": "code",
   "execution_count": 22,
   "metadata": {},
   "outputs": [
    {
     "data": {
      "text/html": [
       "<div>\n",
       "<style scoped>\n",
       "    .dataframe tbody tr th:only-of-type {\n",
       "        vertical-align: middle;\n",
       "    }\n",
       "\n",
       "    .dataframe tbody tr th {\n",
       "        vertical-align: top;\n",
       "    }\n",
       "\n",
       "    .dataframe thead th {\n",
       "        text-align: right;\n",
       "    }\n",
       "</style>\n",
       "<table border=\"1\" class=\"dataframe\">\n",
       "  <thead>\n",
       "    <tr style=\"text-align: right;\">\n",
       "      <th></th>\n",
       "      <th>client_id</th>\n",
       "      <th>material</th>\n",
       "      <th>sales_count</th>\n",
       "    </tr>\n",
       "  </thead>\n",
       "  <tbody>\n",
       "    <tr>\n",
       "      <th>0</th>\n",
       "      <td>0000d48a8891cd462fdf01ea861ec53e</td>\n",
       "      <td>254f1eba1181248807d128842b566bf9</td>\n",
       "      <td>76.000</td>\n",
       "    </tr>\n",
       "    <tr>\n",
       "      <th>1</th>\n",
       "      <td>00028a1dcb30863404a386961a69300e</td>\n",
       "      <td>b75147feae4cf8ec07fb5f2cef855def</td>\n",
       "      <td>43.000</td>\n",
       "    </tr>\n",
       "    <tr>\n",
       "      <th>2</th>\n",
       "      <td>0004274683494a9eca5e70ef97299d55</td>\n",
       "      <td>6eaa9bd12a43a4d79badd51a62ac3d76</td>\n",
       "      <td>84.000</td>\n",
       "    </tr>\n",
       "    <tr>\n",
       "      <th>3</th>\n",
       "      <td>00072f81efcb3481861f7300c5e2a88a</td>\n",
       "      <td>29f1a40e5f2df9968c5f7430d3891bf4</td>\n",
       "      <td>10.000</td>\n",
       "    </tr>\n",
       "    <tr>\n",
       "      <th>4</th>\n",
       "      <td>00076596eb749cf10c2e984621dffe95</td>\n",
       "      <td>6278f48a43fb0a23036b3a11c92e726c</td>\n",
       "      <td>198.954</td>\n",
       "    </tr>\n",
       "  </tbody>\n",
       "</table>\n",
       "</div>"
      ],
      "text/plain": [
       "                          client_id                          material  \\\n",
       "0  0000d48a8891cd462fdf01ea861ec53e  254f1eba1181248807d128842b566bf9   \n",
       "1  00028a1dcb30863404a386961a69300e  b75147feae4cf8ec07fb5f2cef855def   \n",
       "2  0004274683494a9eca5e70ef97299d55  6eaa9bd12a43a4d79badd51a62ac3d76   \n",
       "3  00072f81efcb3481861f7300c5e2a88a  29f1a40e5f2df9968c5f7430d3891bf4   \n",
       "4  00076596eb749cf10c2e984621dffe95  6278f48a43fb0a23036b3a11c92e726c   \n",
       "\n",
       "   sales_count  \n",
       "0       76.000  \n",
       "1       43.000  \n",
       "2       84.000  \n",
       "3       10.000  \n",
       "4      198.954  "
      ]
     },
     "execution_count": 22,
     "metadata": {},
     "output_type": "execute_result"
    }
   ],
   "source": [
    "new_res.head()"
   ]
  },
  {
   "cell_type": "code",
   "execution_count": 13,
   "metadata": {
    "colab": {
     "base_uri": "https://localhost:8080/",
     "height": 34
    },
    "id": "un7F1C6QF7Tj",
    "outputId": "28ca98f8-c864-4dd9-f0c2-e60bd84a4c3b"
   },
   "outputs": [
    {
     "name": "stdout",
     "output_type": "stream",
     "text": [
      "366\n"
     ]
    }
   ],
   "source": [
    "dates = np.array(transactions_data.chq_date.unique())\n",
    "print(len(dates))"
   ]
  },
  {
   "cell_type": "code",
   "execution_count": 25,
   "metadata": {
    "colab": {
     "base_uri": "https://localhost:8080/",
     "height": 51
    },
    "id": "22NPYQ_F6AED",
    "outputId": "d9cbebea-0834-4ae7-8e39-ce7391b87777"
   },
   "outputs": [
    {
     "name": "stdout",
     "output_type": "stream",
     "text": [
      "<class 'list'>\n",
      "100000\n",
      "12038\n"
     ]
    }
   ],
   "source": [
    "b =  res.index.get_level_values('material')\n",
    "freq_materials = b.tolist()\n",
    "print(type(freq_materials))\n",
    "print(len(freq_materials))\n",
    "fav_items = []\n",
    "for i in freq_materials:\n",
    "    if i not in fav_items: \n",
    "        fav_items.append(i) \n",
    "print(len(fav_items))#get the number of unique favorite items for customers (?)"
   ]
  },
  {
   "cell_type": "code",
   "execution_count": null,
   "metadata": {},
   "outputs": [],
   "source": []
  },
  {
   "cell_type": "code",
   "execution_count": 46,
   "metadata": {},
   "outputs": [],
   "source": [
    "import time\n",
    "start = time.time()\n",
    "for i in range(10):\n",
    "    a = transactions_data.loc[i].at['material']\n",
    "    b = transactions_data.loc[i].at['chq_date']\n",
    "    c = fav_items[i]\n",
    "    d = dates[i]\n",
    "    e = a == c\n",
    "    g = b == d\n",
    "end = time.time()\n",
    "meantime = (end - start)/10"
   ]
  },
  {
   "cell_type": "code",
   "execution_count": 49,
   "metadata": {},
   "outputs": [
    {
     "name": "stdout",
     "output_type": "stream",
     "text": [
      "Код будет выполняться 15522993.82 часов\n"
     ]
    }
   ],
   "source": [
    "print(\"Код будет выполняться {:.2f} часов\".format(meantime * len(dates)*len(fav_items)*32109414/60/60))"
   ]
  },
  {
   "cell_type": "code",
   "execution_count": 37,
   "metadata": {},
   "outputs": [
    {
     "name": "stdout",
     "output_type": "stream",
     "text": [
      "0.0009691715240478516\n"
     ]
    }
   ],
   "source": [
    "start = time.time()\n",
    "\n",
    "a = transactions_data.loc[i].at['material']\n",
    "b = transactions_data.loc[i].at['chq_date']\n",
    "c = fav_items[i]\n",
    "d = dates[i]\n",
    "e = a == c\n",
    "g = b == d\n",
    "end = time.time()\n",
    "print(end - start)"
   ]
  },
  {
   "cell_type": "code",
   "execution_count": null,
   "metadata": {},
   "outputs": [],
   "source": []
  },
  {
   "cell_type": "code",
   "execution_count": null,
   "metadata": {},
   "outputs": [],
   "source": []
  },
  {
   "cell_type": "code",
   "execution_count": null,
   "metadata": {},
   "outputs": [],
   "source": []
  },
  {
   "cell_type": "code",
   "execution_count": 15,
   "metadata": {
    "id": "6XMmVUZ7hmtc"
   },
   "outputs": [
    {
     "ename": "KeyboardInterrupt",
     "evalue": "",
     "output_type": "error",
     "traceback": [
      "\u001b[0;31m------------------------------------------------------------------\u001b[0m",
      "\u001b[0;31mKeyboardInterrupt\u001b[0m                Traceback (most recent call last)",
      "\u001b[0;32m<ipython-input-15-2476f56558ae>\u001b[0m in \u001b[0;36m<module>\u001b[0;34m\u001b[0m\n\u001b[1;32m      3\u001b[0m   \u001b[0;32mfor\u001b[0m \u001b[0mj\u001b[0m \u001b[0;32min\u001b[0m \u001b[0mrange\u001b[0m\u001b[0;34m(\u001b[0m\u001b[0mlen\u001b[0m\u001b[0;34m(\u001b[0m\u001b[0mdates\u001b[0m\u001b[0;34m)\u001b[0m\u001b[0;34m)\u001b[0m\u001b[0;34m:\u001b[0m\u001b[0;34m\u001b[0m\u001b[0;34m\u001b[0m\u001b[0m\n\u001b[1;32m      4\u001b[0m     \u001b[0;32mfor\u001b[0m \u001b[0mk\u001b[0m \u001b[0;32min\u001b[0m \u001b[0mrange\u001b[0m\u001b[0;34m(\u001b[0m\u001b[0;36m32109414\u001b[0m\u001b[0;34m)\u001b[0m\u001b[0;34m:\u001b[0m\u001b[0;34m\u001b[0m\u001b[0;34m\u001b[0m\u001b[0m\n\u001b[0;32m----> 5\u001b[0;31m       \u001b[0;32mif\u001b[0m \u001b[0mfav_items\u001b[0m\u001b[0;34m[\u001b[0m\u001b[0mi\u001b[0m\u001b[0;34m]\u001b[0m\u001b[0;34m==\u001b[0m\u001b[0mtransactions_data\u001b[0m\u001b[0;34m.\u001b[0m\u001b[0mloc\u001b[0m\u001b[0;34m[\u001b[0m\u001b[0mk\u001b[0m\u001b[0;34m]\u001b[0m\u001b[0;34m.\u001b[0m\u001b[0mat\u001b[0m\u001b[0;34m[\u001b[0m\u001b[0;34m'material'\u001b[0m\u001b[0;34m]\u001b[0m \u001b[0;32mand\u001b[0m \u001b[0mdates\u001b[0m\u001b[0;34m[\u001b[0m\u001b[0mj\u001b[0m\u001b[0;34m]\u001b[0m\u001b[0;34m==\u001b[0m\u001b[0mtransactions_data\u001b[0m\u001b[0;34m.\u001b[0m\u001b[0mloc\u001b[0m\u001b[0;34m[\u001b[0m\u001b[0mk\u001b[0m\u001b[0;34m]\u001b[0m\u001b[0;34m.\u001b[0m\u001b[0mat\u001b[0m\u001b[0;34m[\u001b[0m\u001b[0;34m'chq_date'\u001b[0m\u001b[0;34m]\u001b[0m\u001b[0;34m:\u001b[0m\u001b[0;34m\u001b[0m\u001b[0;34m\u001b[0m\u001b[0m\n\u001b[0m\u001b[1;32m      6\u001b[0m         \u001b[0mdata_array\u001b[0m\u001b[0;34m[\u001b[0m\u001b[0mi\u001b[0m\u001b[0;34m]\u001b[0m\u001b[0;34m[\u001b[0m\u001b[0mj\u001b[0m\u001b[0;34m]\u001b[0m \u001b[0;34m=\u001b[0m \u001b[0mdata_array\u001b[0m\u001b[0;34m[\u001b[0m\u001b[0mi\u001b[0m\u001b[0;34m]\u001b[0m\u001b[0;34m[\u001b[0m\u001b[0mj\u001b[0m\u001b[0;34m]\u001b[0m \u001b[0;34m+\u001b[0m \u001b[0mtransactions_data\u001b[0m\u001b[0;34m.\u001b[0m\u001b[0mloc\u001b[0m\u001b[0;34m[\u001b[0m\u001b[0mk\u001b[0m\u001b[0;34m]\u001b[0m\u001b[0;34m.\u001b[0m\u001b[0mat\u001b[0m\u001b[0;34m[\u001b[0m\u001b[0;34m'sales_sum'\u001b[0m\u001b[0;34m]\u001b[0m\u001b[0;34m.\u001b[0m\u001b[0mitem\u001b[0m\u001b[0;34m(\u001b[0m\u001b[0;34m)\u001b[0m\u001b[0;34m\u001b[0m\u001b[0;34m\u001b[0m\u001b[0m\n\u001b[1;32m      7\u001b[0m \u001b[0mdata_array\u001b[0m\u001b[0;34m\u001b[0m\u001b[0;34m\u001b[0m\u001b[0m\n",
      "\u001b[0;32m~/anaconda3/lib/python3.7/site-packages/pandas/core/indexing.py\u001b[0m in \u001b[0;36m__getitem__\u001b[0;34m(self, key)\u001b[0m\n\u001b[1;32m    877\u001b[0m \u001b[0;34m\u001b[0m\u001b[0m\n\u001b[1;32m    878\u001b[0m             \u001b[0mmaybe_callable\u001b[0m \u001b[0;34m=\u001b[0m \u001b[0mcom\u001b[0m\u001b[0;34m.\u001b[0m\u001b[0mapply_if_callable\u001b[0m\u001b[0;34m(\u001b[0m\u001b[0mkey\u001b[0m\u001b[0;34m,\u001b[0m \u001b[0mself\u001b[0m\u001b[0;34m.\u001b[0m\u001b[0mobj\u001b[0m\u001b[0;34m)\u001b[0m\u001b[0;34m\u001b[0m\u001b[0;34m\u001b[0m\u001b[0m\n\u001b[0;32m--> 879\u001b[0;31m             \u001b[0;32mreturn\u001b[0m \u001b[0mself\u001b[0m\u001b[0;34m.\u001b[0m\u001b[0m_getitem_axis\u001b[0m\u001b[0;34m(\u001b[0m\u001b[0mmaybe_callable\u001b[0m\u001b[0;34m,\u001b[0m \u001b[0maxis\u001b[0m\u001b[0;34m=\u001b[0m\u001b[0maxis\u001b[0m\u001b[0;34m)\u001b[0m\u001b[0;34m\u001b[0m\u001b[0;34m\u001b[0m\u001b[0m\n\u001b[0m\u001b[1;32m    880\u001b[0m \u001b[0;34m\u001b[0m\u001b[0m\n\u001b[1;32m    881\u001b[0m     \u001b[0;32mdef\u001b[0m \u001b[0m_is_scalar_access\u001b[0m\u001b[0;34m(\u001b[0m\u001b[0mself\u001b[0m\u001b[0;34m,\u001b[0m \u001b[0mkey\u001b[0m\u001b[0;34m:\u001b[0m \u001b[0mTuple\u001b[0m\u001b[0;34m)\u001b[0m\u001b[0;34m:\u001b[0m\u001b[0;34m\u001b[0m\u001b[0;34m\u001b[0m\u001b[0m\n",
      "\u001b[0;32m~/anaconda3/lib/python3.7/site-packages/pandas/core/indexing.py\u001b[0m in \u001b[0;36m_getitem_axis\u001b[0;34m(self, key, axis)\u001b[0m\n\u001b[1;32m   1108\u001b[0m         \u001b[0;31m# fall thru to straight lookup\u001b[0m\u001b[0;34m\u001b[0m\u001b[0;34m\u001b[0m\u001b[0;34m\u001b[0m\u001b[0m\n\u001b[1;32m   1109\u001b[0m         \u001b[0mself\u001b[0m\u001b[0;34m.\u001b[0m\u001b[0m_validate_key\u001b[0m\u001b[0;34m(\u001b[0m\u001b[0mkey\u001b[0m\u001b[0;34m,\u001b[0m \u001b[0maxis\u001b[0m\u001b[0;34m)\u001b[0m\u001b[0;34m\u001b[0m\u001b[0;34m\u001b[0m\u001b[0m\n\u001b[0;32m-> 1110\u001b[0;31m         \u001b[0;32mreturn\u001b[0m \u001b[0mself\u001b[0m\u001b[0;34m.\u001b[0m\u001b[0m_get_label\u001b[0m\u001b[0;34m(\u001b[0m\u001b[0mkey\u001b[0m\u001b[0;34m,\u001b[0m \u001b[0maxis\u001b[0m\u001b[0;34m=\u001b[0m\u001b[0maxis\u001b[0m\u001b[0;34m)\u001b[0m\u001b[0;34m\u001b[0m\u001b[0;34m\u001b[0m\u001b[0m\n\u001b[0m\u001b[1;32m   1111\u001b[0m \u001b[0;34m\u001b[0m\u001b[0m\n\u001b[1;32m   1112\u001b[0m     \u001b[0;32mdef\u001b[0m \u001b[0m_get_slice_axis\u001b[0m\u001b[0;34m(\u001b[0m\u001b[0mself\u001b[0m\u001b[0;34m,\u001b[0m \u001b[0mslice_obj\u001b[0m\u001b[0;34m:\u001b[0m \u001b[0mslice\u001b[0m\u001b[0;34m,\u001b[0m \u001b[0maxis\u001b[0m\u001b[0;34m:\u001b[0m \u001b[0mint\u001b[0m\u001b[0;34m)\u001b[0m\u001b[0;34m:\u001b[0m\u001b[0;34m\u001b[0m\u001b[0;34m\u001b[0m\u001b[0m\n",
      "\u001b[0;32m~/anaconda3/lib/python3.7/site-packages/pandas/core/indexing.py\u001b[0m in \u001b[0;36m_get_label\u001b[0;34m(self, label, axis)\u001b[0m\n\u001b[1;32m   1057\u001b[0m     \u001b[0;32mdef\u001b[0m \u001b[0m_get_label\u001b[0m\u001b[0;34m(\u001b[0m\u001b[0mself\u001b[0m\u001b[0;34m,\u001b[0m \u001b[0mlabel\u001b[0m\u001b[0;34m,\u001b[0m \u001b[0maxis\u001b[0m\u001b[0;34m:\u001b[0m \u001b[0mint\u001b[0m\u001b[0;34m)\u001b[0m\u001b[0;34m:\u001b[0m\u001b[0;34m\u001b[0m\u001b[0;34m\u001b[0m\u001b[0m\n\u001b[1;32m   1058\u001b[0m         \u001b[0;31m# GH#5667 this will fail if the label is not present in the axis.\u001b[0m\u001b[0;34m\u001b[0m\u001b[0;34m\u001b[0m\u001b[0;34m\u001b[0m\u001b[0m\n\u001b[0;32m-> 1059\u001b[0;31m         \u001b[0;32mreturn\u001b[0m \u001b[0mself\u001b[0m\u001b[0;34m.\u001b[0m\u001b[0mobj\u001b[0m\u001b[0;34m.\u001b[0m\u001b[0mxs\u001b[0m\u001b[0;34m(\u001b[0m\u001b[0mlabel\u001b[0m\u001b[0;34m,\u001b[0m \u001b[0maxis\u001b[0m\u001b[0;34m=\u001b[0m\u001b[0maxis\u001b[0m\u001b[0;34m)\u001b[0m\u001b[0;34m\u001b[0m\u001b[0;34m\u001b[0m\u001b[0m\n\u001b[0m\u001b[1;32m   1060\u001b[0m \u001b[0;34m\u001b[0m\u001b[0m\n\u001b[1;32m   1061\u001b[0m     \u001b[0;32mdef\u001b[0m \u001b[0m_handle_lowerdim_multi_index_axis0\u001b[0m\u001b[0;34m(\u001b[0m\u001b[0mself\u001b[0m\u001b[0;34m,\u001b[0m \u001b[0mtup\u001b[0m\u001b[0;34m:\u001b[0m \u001b[0mTuple\u001b[0m\u001b[0;34m)\u001b[0m\u001b[0;34m:\u001b[0m\u001b[0;34m\u001b[0m\u001b[0;34m\u001b[0m\u001b[0m\n",
      "\u001b[0;32m~/anaconda3/lib/python3.7/site-packages/pandas/core/generic.py\u001b[0m in \u001b[0;36mxs\u001b[0;34m(self, key, axis, level, drop_level)\u001b[0m\n\u001b[1;32m   3506\u001b[0m                 \u001b[0;32mreturn\u001b[0m \u001b[0mself\u001b[0m\u001b[0;34m.\u001b[0m\u001b[0m_values\u001b[0m\u001b[0;34m[\u001b[0m\u001b[0mloc\u001b[0m\u001b[0;34m]\u001b[0m\u001b[0;34m\u001b[0m\u001b[0;34m\u001b[0m\u001b[0m\n\u001b[1;32m   3507\u001b[0m \u001b[0;34m\u001b[0m\u001b[0m\n\u001b[0;32m-> 3508\u001b[0;31m             \u001b[0mnew_values\u001b[0m \u001b[0;34m=\u001b[0m \u001b[0mself\u001b[0m\u001b[0;34m.\u001b[0m\u001b[0m_mgr\u001b[0m\u001b[0;34m.\u001b[0m\u001b[0mfast_xs\u001b[0m\u001b[0;34m(\u001b[0m\u001b[0mloc\u001b[0m\u001b[0;34m)\u001b[0m\u001b[0;34m\u001b[0m\u001b[0;34m\u001b[0m\u001b[0m\n\u001b[0m\u001b[1;32m   3509\u001b[0m \u001b[0;34m\u001b[0m\u001b[0m\n\u001b[1;32m   3510\u001b[0m             result = self._constructor_sliced(\n",
      "\u001b[0;32m~/anaconda3/lib/python3.7/site-packages/pandas/core/internals/managers.py\u001b[0m in \u001b[0;36mfast_xs\u001b[0;34m(self, loc)\u001b[0m\n\u001b[1;32m    939\u001b[0m             \u001b[0;32mreturn\u001b[0m \u001b[0mself\u001b[0m\u001b[0;34m.\u001b[0m\u001b[0mblocks\u001b[0m\u001b[0;34m[\u001b[0m\u001b[0;36m0\u001b[0m\u001b[0;34m]\u001b[0m\u001b[0;34m.\u001b[0m\u001b[0miget\u001b[0m\u001b[0;34m(\u001b[0m\u001b[0;34m(\u001b[0m\u001b[0mslice\u001b[0m\u001b[0;34m(\u001b[0m\u001b[0;32mNone\u001b[0m\u001b[0;34m)\u001b[0m\u001b[0;34m,\u001b[0m \u001b[0mloc\u001b[0m\u001b[0;34m)\u001b[0m\u001b[0;34m)\u001b[0m\u001b[0;34m\u001b[0m\u001b[0;34m\u001b[0m\u001b[0m\n\u001b[1;32m    940\u001b[0m \u001b[0;34m\u001b[0m\u001b[0m\n\u001b[0;32m--> 941\u001b[0;31m         \u001b[0mdtype\u001b[0m \u001b[0;34m=\u001b[0m \u001b[0m_interleaved_dtype\u001b[0m\u001b[0;34m(\u001b[0m\u001b[0mself\u001b[0m\u001b[0;34m.\u001b[0m\u001b[0mblocks\u001b[0m\u001b[0;34m)\u001b[0m\u001b[0;34m\u001b[0m\u001b[0;34m\u001b[0m\u001b[0m\n\u001b[0m\u001b[1;32m    942\u001b[0m \u001b[0;34m\u001b[0m\u001b[0m\n\u001b[1;32m    943\u001b[0m         \u001b[0mn\u001b[0m \u001b[0;34m=\u001b[0m \u001b[0mlen\u001b[0m\u001b[0;34m(\u001b[0m\u001b[0mself\u001b[0m\u001b[0;34m)\u001b[0m\u001b[0;34m\u001b[0m\u001b[0;34m\u001b[0m\u001b[0m\n",
      "\u001b[0;32m~/anaconda3/lib/python3.7/site-packages/pandas/core/internals/managers.py\u001b[0m in \u001b[0;36m_interleaved_dtype\u001b[0;34m(blocks)\u001b[0m\n\u001b[1;32m   1884\u001b[0m         \u001b[0;32mreturn\u001b[0m \u001b[0;32mNone\u001b[0m\u001b[0;34m\u001b[0m\u001b[0;34m\u001b[0m\u001b[0m\n\u001b[1;32m   1885\u001b[0m \u001b[0;34m\u001b[0m\u001b[0m\n\u001b[0;32m-> 1886\u001b[0;31m     \u001b[0;32mreturn\u001b[0m \u001b[0mfind_common_type\u001b[0m\u001b[0;34m(\u001b[0m\u001b[0;34m[\u001b[0m\u001b[0mb\u001b[0m\u001b[0;34m.\u001b[0m\u001b[0mdtype\u001b[0m \u001b[0;32mfor\u001b[0m \u001b[0mb\u001b[0m \u001b[0;32min\u001b[0m \u001b[0mblocks\u001b[0m\u001b[0;34m]\u001b[0m\u001b[0;34m)\u001b[0m\u001b[0;34m\u001b[0m\u001b[0;34m\u001b[0m\u001b[0m\n\u001b[0m\u001b[1;32m   1887\u001b[0m \u001b[0;34m\u001b[0m\u001b[0m\n\u001b[1;32m   1888\u001b[0m \u001b[0;34m\u001b[0m\u001b[0m\n",
      "\u001b[0;32m~/anaconda3/lib/python3.7/site-packages/pandas/core/dtypes/cast.py\u001b[0m in \u001b[0;36mfind_common_type\u001b[0;34m(types)\u001b[0m\n\u001b[1;32m   1469\u001b[0m     \u001b[0mtypes\u001b[0m \u001b[0;34m=\u001b[0m \u001b[0mlist\u001b[0m\u001b[0;34m(\u001b[0m\u001b[0mdict\u001b[0m\u001b[0;34m.\u001b[0m\u001b[0mfromkeys\u001b[0m\u001b[0;34m(\u001b[0m\u001b[0mtypes\u001b[0m\u001b[0;34m)\u001b[0m\u001b[0;34m.\u001b[0m\u001b[0mkeys\u001b[0m\u001b[0;34m(\u001b[0m\u001b[0;34m)\u001b[0m\u001b[0;34m)\u001b[0m\u001b[0;34m\u001b[0m\u001b[0;34m\u001b[0m\u001b[0m\n\u001b[1;32m   1470\u001b[0m \u001b[0;34m\u001b[0m\u001b[0m\n\u001b[0;32m-> 1471\u001b[0;31m     \u001b[0;32mif\u001b[0m \u001b[0many\u001b[0m\u001b[0;34m(\u001b[0m\u001b[0misinstance\u001b[0m\u001b[0;34m(\u001b[0m\u001b[0mt\u001b[0m\u001b[0;34m,\u001b[0m \u001b[0mExtensionDtype\u001b[0m\u001b[0;34m)\u001b[0m \u001b[0;32mfor\u001b[0m \u001b[0mt\u001b[0m \u001b[0;32min\u001b[0m \u001b[0mtypes\u001b[0m\u001b[0;34m)\u001b[0m\u001b[0;34m:\u001b[0m\u001b[0;34m\u001b[0m\u001b[0;34m\u001b[0m\u001b[0m\n\u001b[0m\u001b[1;32m   1472\u001b[0m         \u001b[0;32mfor\u001b[0m \u001b[0mt\u001b[0m \u001b[0;32min\u001b[0m \u001b[0mtypes\u001b[0m\u001b[0;34m:\u001b[0m\u001b[0;34m\u001b[0m\u001b[0;34m\u001b[0m\u001b[0m\n\u001b[1;32m   1473\u001b[0m             \u001b[0;32mif\u001b[0m \u001b[0misinstance\u001b[0m\u001b[0;34m(\u001b[0m\u001b[0mt\u001b[0m\u001b[0;34m,\u001b[0m \u001b[0mExtensionDtype\u001b[0m\u001b[0;34m)\u001b[0m\u001b[0;34m:\u001b[0m\u001b[0;34m\u001b[0m\u001b[0;34m\u001b[0m\u001b[0m\n",
      "\u001b[0;32m~/anaconda3/lib/python3.7/site-packages/pandas/core/dtypes/cast.py\u001b[0m in \u001b[0;36m<genexpr>\u001b[0;34m(.0)\u001b[0m\n\u001b[1;32m   1469\u001b[0m     \u001b[0mtypes\u001b[0m \u001b[0;34m=\u001b[0m \u001b[0mlist\u001b[0m\u001b[0;34m(\u001b[0m\u001b[0mdict\u001b[0m\u001b[0;34m.\u001b[0m\u001b[0mfromkeys\u001b[0m\u001b[0;34m(\u001b[0m\u001b[0mtypes\u001b[0m\u001b[0;34m)\u001b[0m\u001b[0;34m.\u001b[0m\u001b[0mkeys\u001b[0m\u001b[0;34m(\u001b[0m\u001b[0;34m)\u001b[0m\u001b[0;34m)\u001b[0m\u001b[0;34m\u001b[0m\u001b[0;34m\u001b[0m\u001b[0m\n\u001b[1;32m   1470\u001b[0m \u001b[0;34m\u001b[0m\u001b[0m\n\u001b[0;32m-> 1471\u001b[0;31m     \u001b[0;32mif\u001b[0m \u001b[0many\u001b[0m\u001b[0;34m(\u001b[0m\u001b[0misinstance\u001b[0m\u001b[0;34m(\u001b[0m\u001b[0mt\u001b[0m\u001b[0;34m,\u001b[0m \u001b[0mExtensionDtype\u001b[0m\u001b[0;34m)\u001b[0m \u001b[0;32mfor\u001b[0m \u001b[0mt\u001b[0m \u001b[0;32min\u001b[0m \u001b[0mtypes\u001b[0m\u001b[0;34m)\u001b[0m\u001b[0;34m:\u001b[0m\u001b[0;34m\u001b[0m\u001b[0;34m\u001b[0m\u001b[0m\n\u001b[0m\u001b[1;32m   1472\u001b[0m         \u001b[0;32mfor\u001b[0m \u001b[0mt\u001b[0m \u001b[0;32min\u001b[0m \u001b[0mtypes\u001b[0m\u001b[0;34m:\u001b[0m\u001b[0;34m\u001b[0m\u001b[0;34m\u001b[0m\u001b[0m\n\u001b[1;32m   1473\u001b[0m             \u001b[0;32mif\u001b[0m \u001b[0misinstance\u001b[0m\u001b[0;34m(\u001b[0m\u001b[0mt\u001b[0m\u001b[0;34m,\u001b[0m \u001b[0mExtensionDtype\u001b[0m\u001b[0;34m)\u001b[0m\u001b[0;34m:\u001b[0m\u001b[0;34m\u001b[0m\u001b[0;34m\u001b[0m\u001b[0m\n",
      "\u001b[0;31mKeyboardInterrupt\u001b[0m: "
     ]
    }
   ],
   "source": [
    "data_array = [[0] * len(dates) for i in range(len(fav_items))]\n",
    "for i in range(len(fav_items)):\n",
    "    for j in range(len(dates)):\n",
    "        for k in range(32109414):\n",
    "            if fav_items[i]==transactions_data.loc[k].at['material'] and dates[j]==transactions_data.loc[k].at['chq_date']:\n",
    "                data_array[i][j] = data_array[i][j] + transactions_data.loc[k].at['sales_sum'].item()\n",
    "data_array"
   ]
  },
  {
   "cell_type": "markdown",
   "metadata": {
    "id": "vjVNN_kItjDQ"
   },
   "source": [
    "## most popular stuff"
   ]
  },
  {
   "cell_type": "code",
   "execution_count": 98,
   "metadata": {},
   "outputs": [],
   "source": [
    "def get_hash(frame):\n",
    "    a = frame.iloc[:, 0]\n",
    "    b = frame.iloc[:, 1]\n",
    "    return dict([(i, j) for i, j in zip(a, b)])"
   ]
  },
  {
   "cell_type": "code",
   "execution_count": 53,
   "metadata": {},
   "outputs": [
    {
     "data": {
      "text/html": [
       "<div>\n",
       "<style scoped>\n",
       "    .dataframe tbody tr th:only-of-type {\n",
       "        vertical-align: middle;\n",
       "    }\n",
       "\n",
       "    .dataframe tbody tr th {\n",
       "        vertical-align: top;\n",
       "    }\n",
       "\n",
       "    .dataframe thead th {\n",
       "        text-align: right;\n",
       "    }\n",
       "</style>\n",
       "<table border=\"1\" class=\"dataframe\">\n",
       "  <thead>\n",
       "    <tr style=\"text-align: right;\">\n",
       "      <th></th>\n",
       "      <th>client_id</th>\n",
       "      <th>material</th>\n",
       "      <th>sales_count</th>\n",
       "    </tr>\n",
       "  </thead>\n",
       "  <tbody>\n",
       "    <tr>\n",
       "      <th>0</th>\n",
       "      <td>0000d48a8891cd462fdf01ea861ec53e</td>\n",
       "      <td>254f1eba1181248807d128842b566bf9</td>\n",
       "      <td>76.000</td>\n",
       "    </tr>\n",
       "    <tr>\n",
       "      <th>1</th>\n",
       "      <td>00028a1dcb30863404a386961a69300e</td>\n",
       "      <td>b75147feae4cf8ec07fb5f2cef855def</td>\n",
       "      <td>43.000</td>\n",
       "    </tr>\n",
       "    <tr>\n",
       "      <th>2</th>\n",
       "      <td>0004274683494a9eca5e70ef97299d55</td>\n",
       "      <td>6eaa9bd12a43a4d79badd51a62ac3d76</td>\n",
       "      <td>84.000</td>\n",
       "    </tr>\n",
       "    <tr>\n",
       "      <th>3</th>\n",
       "      <td>00072f81efcb3481861f7300c5e2a88a</td>\n",
       "      <td>29f1a40e5f2df9968c5f7430d3891bf4</td>\n",
       "      <td>10.000</td>\n",
       "    </tr>\n",
       "    <tr>\n",
       "      <th>4</th>\n",
       "      <td>00076596eb749cf10c2e984621dffe95</td>\n",
       "      <td>6278f48a43fb0a23036b3a11c92e726c</td>\n",
       "      <td>198.954</td>\n",
       "    </tr>\n",
       "  </tbody>\n",
       "</table>\n",
       "</div>"
      ],
      "text/plain": [
       "                          client_id                          material  \\\n",
       "0  0000d48a8891cd462fdf01ea861ec53e  254f1eba1181248807d128842b566bf9   \n",
       "1  00028a1dcb30863404a386961a69300e  b75147feae4cf8ec07fb5f2cef855def   \n",
       "2  0004274683494a9eca5e70ef97299d55  6eaa9bd12a43a4d79badd51a62ac3d76   \n",
       "3  00072f81efcb3481861f7300c5e2a88a  29f1a40e5f2df9968c5f7430d3891bf4   \n",
       "4  00076596eb749cf10c2e984621dffe95  6278f48a43fb0a23036b3a11c92e726c   \n",
       "\n",
       "   sales_count  \n",
       "0       76.000  \n",
       "1       43.000  \n",
       "2       84.000  \n",
       "3       10.000  \n",
       "4      198.954  "
      ]
     },
     "execution_count": 53,
     "metadata": {},
     "output_type": "execute_result"
    }
   ],
   "source": [
    "new_res.head()"
   ]
  },
  {
   "cell_type": "code",
   "execution_count": 54,
   "metadata": {},
   "outputs": [],
   "source": [
    "ctom = {new_res.iloc[i, 0]: new_res.iloc[i, 1] for i in range(new_res.shape[0])}"
   ]
  },
  {
   "cell_type": "code",
   "execution_count": 59,
   "metadata": {},
   "outputs": [
    {
     "data": {
      "text/plain": [
       "(100000, 3)"
      ]
     },
     "execution_count": 59,
     "metadata": {},
     "output_type": "execute_result"
    }
   ],
   "source": [
    "new_res.shape"
   ]
  },
  {
   "cell_type": "code",
   "execution_count": 58,
   "metadata": {},
   "outputs": [
    {
     "data": {
      "text/plain": [
       "(99995, 4)"
      ]
     },
     "execution_count": 58,
     "metadata": {},
     "output_type": "execute_result"
    }
   ],
   "source": [
    "clients_data.shape"
   ]
  },
  {
   "cell_type": "code",
   "execution_count": 60,
   "metadata": {},
   "outputs": [
    {
     "name": "stderr",
     "output_type": "stream",
     "text": [
      "/home/markov/anaconda3/lib/python3.7/site-packages/numpy/lib/arraysetops.py:580: FutureWarning: elementwise comparison failed; returning scalar instead, but in the future will perform elementwise comparison\n",
      "  mask |= (ar1 == a)\n"
     ]
    }
   ],
   "source": [
    "trans = pd.read_csv('transactions.csv', index_col = 0)"
   ]
  },
  {
   "cell_type": "code",
   "execution_count": 61,
   "metadata": {},
   "outputs": [
    {
     "data": {
      "text/html": [
       "<div>\n",
       "<style scoped>\n",
       "    .dataframe tbody tr th:only-of-type {\n",
       "        vertical-align: middle;\n",
       "    }\n",
       "\n",
       "    .dataframe tbody tr th {\n",
       "        vertical-align: top;\n",
       "    }\n",
       "\n",
       "    .dataframe thead th {\n",
       "        text-align: right;\n",
       "    }\n",
       "</style>\n",
       "<table border=\"1\" class=\"dataframe\">\n",
       "  <thead>\n",
       "    <tr style=\"text-align: right;\">\n",
       "      <th></th>\n",
       "      <th>chq_id</th>\n",
       "      <th>plant</th>\n",
       "      <th>chq_date</th>\n",
       "      <th>chq_position</th>\n",
       "      <th>client_id</th>\n",
       "      <th>material</th>\n",
       "      <th>sales_count</th>\n",
       "      <th>sales_sum</th>\n",
       "      <th>is_promo</th>\n",
       "    </tr>\n",
       "  </thead>\n",
       "  <tbody>\n",
       "    <tr>\n",
       "      <th>0</th>\n",
       "      <td>ce5b3d1c531348c5d0d8e859b6d0cf91</td>\n",
       "      <td>7cd86ecb09aa48c6e620b340f6a74592</td>\n",
       "      <td>2016-11-01</td>\n",
       "      <td>4</td>\n",
       "      <td>90fca68123e692a005a4edeadd94b2f2</td>\n",
       "      <td>232cfe8b28970434f685b737737b26d4</td>\n",
       "      <td>2.0</td>\n",
       "      <td>146.98</td>\n",
       "      <td>0</td>\n",
       "    </tr>\n",
       "    <tr>\n",
       "      <th>1</th>\n",
       "      <td>ce5b3d1c531348c5d0d8e859b6d0cf91</td>\n",
       "      <td>7cd86ecb09aa48c6e620b340f6a74592</td>\n",
       "      <td>2016-11-01</td>\n",
       "      <td>3</td>\n",
       "      <td>90fca68123e692a005a4edeadd94b2f2</td>\n",
       "      <td>12ec64451b8e426db16f3f05ea770901</td>\n",
       "      <td>1.0</td>\n",
       "      <td>249.99</td>\n",
       "      <td>1</td>\n",
       "    </tr>\n",
       "    <tr>\n",
       "      <th>2</th>\n",
       "      <td>ce5b3d1c531348c5d0d8e859b6d0cf91</td>\n",
       "      <td>7cd86ecb09aa48c6e620b340f6a74592</td>\n",
       "      <td>2016-11-01</td>\n",
       "      <td>12</td>\n",
       "      <td>90fca68123e692a005a4edeadd94b2f2</td>\n",
       "      <td>1212ff8ecf53aebef093ca8ae216db68</td>\n",
       "      <td>1.0</td>\n",
       "      <td>47.99</td>\n",
       "      <td>1</td>\n",
       "    </tr>\n",
       "    <tr>\n",
       "      <th>3</th>\n",
       "      <td>ce5b3d1c531348c5d0d8e859b6d0cf91</td>\n",
       "      <td>7cd86ecb09aa48c6e620b340f6a74592</td>\n",
       "      <td>2016-11-01</td>\n",
       "      <td>13</td>\n",
       "      <td>90fca68123e692a005a4edeadd94b2f2</td>\n",
       "      <td>1212ff8ecf53aebef093ca8ae216db68</td>\n",
       "      <td>1.0</td>\n",
       "      <td>47.99</td>\n",
       "      <td>1</td>\n",
       "    </tr>\n",
       "    <tr>\n",
       "      <th>4</th>\n",
       "      <td>ce5b3d1c531348c5d0d8e859b6d0cf91</td>\n",
       "      <td>7cd86ecb09aa48c6e620b340f6a74592</td>\n",
       "      <td>2016-11-01</td>\n",
       "      <td>11</td>\n",
       "      <td>90fca68123e692a005a4edeadd94b2f2</td>\n",
       "      <td>571c6d3b559db8445e05265649eb30ab</td>\n",
       "      <td>2.0</td>\n",
       "      <td>53.98</td>\n",
       "      <td>1</td>\n",
       "    </tr>\n",
       "  </tbody>\n",
       "</table>\n",
       "</div>"
      ],
      "text/plain": [
       "                             chq_id                             plant  \\\n",
       "0  ce5b3d1c531348c5d0d8e859b6d0cf91  7cd86ecb09aa48c6e620b340f6a74592   \n",
       "1  ce5b3d1c531348c5d0d8e859b6d0cf91  7cd86ecb09aa48c6e620b340f6a74592   \n",
       "2  ce5b3d1c531348c5d0d8e859b6d0cf91  7cd86ecb09aa48c6e620b340f6a74592   \n",
       "3  ce5b3d1c531348c5d0d8e859b6d0cf91  7cd86ecb09aa48c6e620b340f6a74592   \n",
       "4  ce5b3d1c531348c5d0d8e859b6d0cf91  7cd86ecb09aa48c6e620b340f6a74592   \n",
       "\n",
       "     chq_date  chq_position                         client_id  \\\n",
       "0  2016-11-01             4  90fca68123e692a005a4edeadd94b2f2   \n",
       "1  2016-11-01             3  90fca68123e692a005a4edeadd94b2f2   \n",
       "2  2016-11-01            12  90fca68123e692a005a4edeadd94b2f2   \n",
       "3  2016-11-01            13  90fca68123e692a005a4edeadd94b2f2   \n",
       "4  2016-11-01            11  90fca68123e692a005a4edeadd94b2f2   \n",
       "\n",
       "                           material  sales_count  sales_sum  is_promo  \n",
       "0  232cfe8b28970434f685b737737b26d4          2.0     146.98         0  \n",
       "1  12ec64451b8e426db16f3f05ea770901          1.0     249.99         1  \n",
       "2  1212ff8ecf53aebef093ca8ae216db68          1.0      47.99         1  \n",
       "3  1212ff8ecf53aebef093ca8ae216db68          1.0      47.99         1  \n",
       "4  571c6d3b559db8445e05265649eb30ab          2.0      53.98         1  "
      ]
     },
     "execution_count": 61,
     "metadata": {},
     "output_type": "execute_result"
    }
   ],
   "source": [
    "trans.head()"
   ]
  },
  {
   "cell_type": "code",
   "execution_count": 63,
   "metadata": {},
   "outputs": [],
   "source": [
    "moni = trans.loc[:, ['chq_id', 'sales_sum']]"
   ]
  },
  {
   "cell_type": "code",
   "execution_count": 64,
   "metadata": {},
   "outputs": [
    {
     "data": {
      "text/html": [
       "<div>\n",
       "<style scoped>\n",
       "    .dataframe tbody tr th:only-of-type {\n",
       "        vertical-align: middle;\n",
       "    }\n",
       "\n",
       "    .dataframe tbody tr th {\n",
       "        vertical-align: top;\n",
       "    }\n",
       "\n",
       "    .dataframe thead th {\n",
       "        text-align: right;\n",
       "    }\n",
       "</style>\n",
       "<table border=\"1\" class=\"dataframe\">\n",
       "  <thead>\n",
       "    <tr style=\"text-align: right;\">\n",
       "      <th></th>\n",
       "      <th>chq_id</th>\n",
       "      <th>sales_sum</th>\n",
       "    </tr>\n",
       "  </thead>\n",
       "  <tbody>\n",
       "    <tr>\n",
       "      <th>0</th>\n",
       "      <td>ce5b3d1c531348c5d0d8e859b6d0cf91</td>\n",
       "      <td>146.98</td>\n",
       "    </tr>\n",
       "    <tr>\n",
       "      <th>1</th>\n",
       "      <td>ce5b3d1c531348c5d0d8e859b6d0cf91</td>\n",
       "      <td>249.99</td>\n",
       "    </tr>\n",
       "    <tr>\n",
       "      <th>2</th>\n",
       "      <td>ce5b3d1c531348c5d0d8e859b6d0cf91</td>\n",
       "      <td>47.99</td>\n",
       "    </tr>\n",
       "    <tr>\n",
       "      <th>3</th>\n",
       "      <td>ce5b3d1c531348c5d0d8e859b6d0cf91</td>\n",
       "      <td>47.99</td>\n",
       "    </tr>\n",
       "    <tr>\n",
       "      <th>4</th>\n",
       "      <td>ce5b3d1c531348c5d0d8e859b6d0cf91</td>\n",
       "      <td>53.98</td>\n",
       "    </tr>\n",
       "  </tbody>\n",
       "</table>\n",
       "</div>"
      ],
      "text/plain": [
       "                             chq_id  sales_sum\n",
       "0  ce5b3d1c531348c5d0d8e859b6d0cf91     146.98\n",
       "1  ce5b3d1c531348c5d0d8e859b6d0cf91     249.99\n",
       "2  ce5b3d1c531348c5d0d8e859b6d0cf91      47.99\n",
       "3  ce5b3d1c531348c5d0d8e859b6d0cf91      47.99\n",
       "4  ce5b3d1c531348c5d0d8e859b6d0cf91      53.98"
      ]
     },
     "execution_count": 64,
     "metadata": {},
     "output_type": "execute_result"
    }
   ],
   "source": [
    "moni.head()#checks to"
   ]
  },
  {
   "cell_type": "code",
   "execution_count": 65,
   "metadata": {},
   "outputs": [],
   "source": [
    "moni = moni.groupby('chq_id').agg('sum').reset_index()"
   ]
  },
  {
   "cell_type": "code",
   "execution_count": null,
   "metadata": {},
   "outputs": [],
   "source": [
    "dmoni = get_hash(moni)#dict of checks to total money"
   ]
  },
  {
   "cell_type": "code",
   "execution_count": 66,
   "metadata": {},
   "outputs": [
    {
     "data": {
      "text/html": [
       "<div>\n",
       "<style scoped>\n",
       "    .dataframe tbody tr th:only-of-type {\n",
       "        vertical-align: middle;\n",
       "    }\n",
       "\n",
       "    .dataframe tbody tr th {\n",
       "        vertical-align: top;\n",
       "    }\n",
       "\n",
       "    .dataframe thead th {\n",
       "        text-align: right;\n",
       "    }\n",
       "</style>\n",
       "<table border=\"1\" class=\"dataframe\">\n",
       "  <thead>\n",
       "    <tr style=\"text-align: right;\">\n",
       "      <th></th>\n",
       "      <th>chq_id</th>\n",
       "      <th>sales_sum</th>\n",
       "    </tr>\n",
       "  </thead>\n",
       "  <tbody>\n",
       "    <tr>\n",
       "      <th>0</th>\n",
       "      <td>00000391443926003b45cebac9a4c0b2</td>\n",
       "      <td>164.0</td>\n",
       "    </tr>\n",
       "    <tr>\n",
       "      <th>1</th>\n",
       "      <td>0000086694a97b18d2b5e5cfc309ab76</td>\n",
       "      <td>821.0</td>\n",
       "    </tr>\n",
       "    <tr>\n",
       "      <th>2</th>\n",
       "      <td>00000b7bb8fd947f62aeed1bba4b6fbb</td>\n",
       "      <td>326.0</td>\n",
       "    </tr>\n",
       "    <tr>\n",
       "      <th>3</th>\n",
       "      <td>00000d5d627d67cacb2ba17705635ca7</td>\n",
       "      <td>1713.0</td>\n",
       "    </tr>\n",
       "    <tr>\n",
       "      <th>4</th>\n",
       "      <td>000010ba9e98d7316de3a8a862fc2d49</td>\n",
       "      <td>2032.0</td>\n",
       "    </tr>\n",
       "  </tbody>\n",
       "</table>\n",
       "</div>"
      ],
      "text/plain": [
       "                             chq_id  sales_sum\n",
       "0  00000391443926003b45cebac9a4c0b2      164.0\n",
       "1  0000086694a97b18d2b5e5cfc309ab76      821.0\n",
       "2  00000b7bb8fd947f62aeed1bba4b6fbb      326.0\n",
       "3  00000d5d627d67cacb2ba17705635ca7     1713.0\n",
       "4  000010ba9e98d7316de3a8a862fc2d49     2032.0"
      ]
     },
     "execution_count": 66,
     "metadata": {},
     "output_type": "execute_result"
    }
   ],
   "source": [
    "moni.head()"
   ]
  },
  {
   "cell_type": "markdown",
   "metadata": {},
   "source": [
    "What we need:\n",
    "1. Checks to total money - DONE dmoni\n",
    "2. Users to favorite item - DONE ctom \n",
    "3. Checks to users. - DONE cltoch\n",
    "4. Checks to items. - DONE ctoi"
   ]
  },
  {
   "cell_type": "code",
   "execution_count": 92,
   "metadata": {},
   "outputs": [],
   "source": [
    "clch = trans.loc[:, ['chq_id', 'client_id']]"
   ]
  },
  {
   "cell_type": "code",
   "execution_count": 150,
   "metadata": {},
   "outputs": [
    {
     "data": {
      "text/html": [
       "<div>\n",
       "<style scoped>\n",
       "    .dataframe tbody tr th:only-of-type {\n",
       "        vertical-align: middle;\n",
       "    }\n",
       "\n",
       "    .dataframe tbody tr th {\n",
       "        vertical-align: top;\n",
       "    }\n",
       "\n",
       "    .dataframe thead th {\n",
       "        text-align: right;\n",
       "    }\n",
       "</style>\n",
       "<table border=\"1\" class=\"dataframe\">\n",
       "  <thead>\n",
       "    <tr style=\"text-align: right;\">\n",
       "      <th></th>\n",
       "      <th>chq_id</th>\n",
       "      <th>client_id</th>\n",
       "    </tr>\n",
       "  </thead>\n",
       "  <tbody>\n",
       "    <tr>\n",
       "      <th>0</th>\n",
       "      <td>ce5b3d1c531348c5d0d8e859b6d0cf91</td>\n",
       "      <td>90fca68123e692a005a4edeadd94b2f2</td>\n",
       "    </tr>\n",
       "    <tr>\n",
       "      <th>1</th>\n",
       "      <td>ce5b3d1c531348c5d0d8e859b6d0cf91</td>\n",
       "      <td>90fca68123e692a005a4edeadd94b2f2</td>\n",
       "    </tr>\n",
       "    <tr>\n",
       "      <th>2</th>\n",
       "      <td>ce5b3d1c531348c5d0d8e859b6d0cf91</td>\n",
       "      <td>90fca68123e692a005a4edeadd94b2f2</td>\n",
       "    </tr>\n",
       "    <tr>\n",
       "      <th>3</th>\n",
       "      <td>ce5b3d1c531348c5d0d8e859b6d0cf91</td>\n",
       "      <td>90fca68123e692a005a4edeadd94b2f2</td>\n",
       "    </tr>\n",
       "    <tr>\n",
       "      <th>4</th>\n",
       "      <td>ce5b3d1c531348c5d0d8e859b6d0cf91</td>\n",
       "      <td>90fca68123e692a005a4edeadd94b2f2</td>\n",
       "    </tr>\n",
       "  </tbody>\n",
       "</table>\n",
       "</div>"
      ],
      "text/plain": [
       "                             chq_id                         client_id\n",
       "0  ce5b3d1c531348c5d0d8e859b6d0cf91  90fca68123e692a005a4edeadd94b2f2\n",
       "1  ce5b3d1c531348c5d0d8e859b6d0cf91  90fca68123e692a005a4edeadd94b2f2\n",
       "2  ce5b3d1c531348c5d0d8e859b6d0cf91  90fca68123e692a005a4edeadd94b2f2\n",
       "3  ce5b3d1c531348c5d0d8e859b6d0cf91  90fca68123e692a005a4edeadd94b2f2\n",
       "4  ce5b3d1c531348c5d0d8e859b6d0cf91  90fca68123e692a005a4edeadd94b2f2"
      ]
     },
     "execution_count": 150,
     "metadata": {},
     "output_type": "execute_result"
    }
   ],
   "source": [
    "clch.head()"
   ]
  },
  {
   "cell_type": "code",
   "execution_count": 99,
   "metadata": {},
   "outputs": [],
   "source": [
    "cltoch = get_hash(clch)"
   ]
  },
  {
   "cell_type": "code",
   "execution_count": 103,
   "metadata": {},
   "outputs": [],
   "source": [
    "chit = trans.loc[:, ['chq_id', 'material']]"
   ]
  },
  {
   "cell_type": "code",
   "execution_count": 104,
   "metadata": {},
   "outputs": [
    {
     "data": {
      "text/html": [
       "<div>\n",
       "<style scoped>\n",
       "    .dataframe tbody tr th:only-of-type {\n",
       "        vertical-align: middle;\n",
       "    }\n",
       "\n",
       "    .dataframe tbody tr th {\n",
       "        vertical-align: top;\n",
       "    }\n",
       "\n",
       "    .dataframe thead th {\n",
       "        text-align: right;\n",
       "    }\n",
       "</style>\n",
       "<table border=\"1\" class=\"dataframe\">\n",
       "  <thead>\n",
       "    <tr style=\"text-align: right;\">\n",
       "      <th></th>\n",
       "      <th>chq_id</th>\n",
       "      <th>material</th>\n",
       "    </tr>\n",
       "  </thead>\n",
       "  <tbody>\n",
       "    <tr>\n",
       "      <th>0</th>\n",
       "      <td>ce5b3d1c531348c5d0d8e859b6d0cf91</td>\n",
       "      <td>232cfe8b28970434f685b737737b26d4</td>\n",
       "    </tr>\n",
       "    <tr>\n",
       "      <th>1</th>\n",
       "      <td>ce5b3d1c531348c5d0d8e859b6d0cf91</td>\n",
       "      <td>12ec64451b8e426db16f3f05ea770901</td>\n",
       "    </tr>\n",
       "    <tr>\n",
       "      <th>2</th>\n",
       "      <td>ce5b3d1c531348c5d0d8e859b6d0cf91</td>\n",
       "      <td>1212ff8ecf53aebef093ca8ae216db68</td>\n",
       "    </tr>\n",
       "    <tr>\n",
       "      <th>3</th>\n",
       "      <td>ce5b3d1c531348c5d0d8e859b6d0cf91</td>\n",
       "      <td>1212ff8ecf53aebef093ca8ae216db68</td>\n",
       "    </tr>\n",
       "    <tr>\n",
       "      <th>4</th>\n",
       "      <td>ce5b3d1c531348c5d0d8e859b6d0cf91</td>\n",
       "      <td>571c6d3b559db8445e05265649eb30ab</td>\n",
       "    </tr>\n",
       "  </tbody>\n",
       "</table>\n",
       "</div>"
      ],
      "text/plain": [
       "                             chq_id                          material\n",
       "0  ce5b3d1c531348c5d0d8e859b6d0cf91  232cfe8b28970434f685b737737b26d4\n",
       "1  ce5b3d1c531348c5d0d8e859b6d0cf91  12ec64451b8e426db16f3f05ea770901\n",
       "2  ce5b3d1c531348c5d0d8e859b6d0cf91  1212ff8ecf53aebef093ca8ae216db68\n",
       "3  ce5b3d1c531348c5d0d8e859b6d0cf91  1212ff8ecf53aebef093ca8ae216db68\n",
       "4  ce5b3d1c531348c5d0d8e859b6d0cf91  571c6d3b559db8445e05265649eb30ab"
      ]
     },
     "execution_count": 104,
     "metadata": {},
     "output_type": "execute_result"
    }
   ],
   "source": [
    "chit.head()"
   ]
  },
  {
   "cell_type": "code",
   "execution_count": 107,
   "metadata": {},
   "outputs": [],
   "source": [
    "material_list = list(chit.material)"
   ]
  },
  {
   "cell_type": "code",
   "execution_count": 109,
   "metadata": {},
   "outputs": [],
   "source": [
    "leng = len(material_list)\n",
    "for i in range(leng):\n",
    "    material_list[i] = [material_list[i]]"
   ]
  },
  {
   "cell_type": "code",
   "execution_count": 111,
   "metadata": {},
   "outputs": [],
   "source": [
    "chit['material'] = material_list"
   ]
  },
  {
   "cell_type": "code",
   "execution_count": 115,
   "metadata": {},
   "outputs": [],
   "source": [
    "fav_items = set(list(ctom.values()))"
   ]
  },
  {
   "cell_type": "code",
   "execution_count": 131,
   "metadata": {},
   "outputs": [],
   "source": [
    "newtrans = trans.loc[:, ['chq_id', 'material']]"
   ]
  },
  {
   "cell_type": "code",
   "execution_count": 132,
   "metadata": {},
   "outputs": [],
   "source": [
    "ntrans = trans.loc[:, ['chq_id', 'material']].groupby('chq_id')"
   ]
  },
  {
   "cell_type": "code",
   "execution_count": 119,
   "metadata": {},
   "outputs": [],
   "source": [
    "all_items = set(list(trans['material']))"
   ]
  },
  {
   "cell_type": "code",
   "execution_count": 122,
   "metadata": {},
   "outputs": [],
   "source": [
    "bad_items = all_items - fav_items"
   ]
  },
  {
   "cell_type": "code",
   "execution_count": 137,
   "metadata": {},
   "outputs": [],
   "source": [
    "newtrans = newtrans[newtrans['material'].map(lambda x: x in bad_items)]"
   ]
  },
  {
   "cell_type": "code",
   "execution_count": 138,
   "metadata": {},
   "outputs": [
    {
     "data": {
      "text/plain": [
       "(11365584, 2)"
      ]
     },
     "execution_count": 138,
     "metadata": {},
     "output_type": "execute_result"
    }
   ],
   "source": [
    "newtrans.shape"
   ]
  },
  {
   "cell_type": "code",
   "execution_count": 139,
   "metadata": {},
   "outputs": [
    {
     "data": {
      "text/html": [
       "<div>\n",
       "<style scoped>\n",
       "    .dataframe tbody tr th:only-of-type {\n",
       "        vertical-align: middle;\n",
       "    }\n",
       "\n",
       "    .dataframe tbody tr th {\n",
       "        vertical-align: top;\n",
       "    }\n",
       "\n",
       "    .dataframe thead th {\n",
       "        text-align: right;\n",
       "    }\n",
       "</style>\n",
       "<table border=\"1\" class=\"dataframe\">\n",
       "  <thead>\n",
       "    <tr style=\"text-align: right;\">\n",
       "      <th></th>\n",
       "      <th>chq_id</th>\n",
       "      <th>material</th>\n",
       "    </tr>\n",
       "  </thead>\n",
       "  <tbody>\n",
       "    <tr>\n",
       "      <th>1</th>\n",
       "      <td>ce5b3d1c531348c5d0d8e859b6d0cf91</td>\n",
       "      <td>12ec64451b8e426db16f3f05ea770901</td>\n",
       "    </tr>\n",
       "    <tr>\n",
       "      <th>10</th>\n",
       "      <td>ce5b3d1c531348c5d0d8e859b6d0cf91</td>\n",
       "      <td>33fa1fd7d0c11ccde404416d63e9b50a</td>\n",
       "    </tr>\n",
       "    <tr>\n",
       "      <th>11</th>\n",
       "      <td>ce5b3d1c531348c5d0d8e859b6d0cf91</td>\n",
       "      <td>ada84ea081d5d3c919dc12a5bdde904e</td>\n",
       "    </tr>\n",
       "    <tr>\n",
       "      <th>19</th>\n",
       "      <td>37d1f3b79bae03f8d3c279436139251e</td>\n",
       "      <td>cb417f3cdb4d49d3f2104dcc454d8575</td>\n",
       "    </tr>\n",
       "    <tr>\n",
       "      <th>20</th>\n",
       "      <td>37d1f3b79bae03f8d3c279436139251e</td>\n",
       "      <td>5633212556428cd4d47c2c9aace28381</td>\n",
       "    </tr>\n",
       "  </tbody>\n",
       "</table>\n",
       "</div>"
      ],
      "text/plain": [
       "                              chq_id                          material\n",
       "1   ce5b3d1c531348c5d0d8e859b6d0cf91  12ec64451b8e426db16f3f05ea770901\n",
       "10  ce5b3d1c531348c5d0d8e859b6d0cf91  33fa1fd7d0c11ccde404416d63e9b50a\n",
       "11  ce5b3d1c531348c5d0d8e859b6d0cf91  ada84ea081d5d3c919dc12a5bdde904e\n",
       "19  37d1f3b79bae03f8d3c279436139251e  cb417f3cdb4d49d3f2104dcc454d8575\n",
       "20  37d1f3b79bae03f8d3c279436139251e  5633212556428cd4d47c2c9aace28381"
      ]
     },
     "execution_count": 139,
     "metadata": {},
     "output_type": "execute_result"
    }
   ],
   "source": [
    "newtrans.head()"
   ]
  },
  {
   "cell_type": "code",
   "execution_count": 141,
   "metadata": {},
   "outputs": [],
   "source": [
    "checks = list(set(newtrans['chq_id']))"
   ]
  },
  {
   "cell_type": "code",
   "execution_count": 140,
   "metadata": {},
   "outputs": [],
   "source": [
    "newtransg = newtrans.groupby('chq_id')"
   ]
  },
  {
   "cell_type": "code",
   "execution_count": 146,
   "metadata": {},
   "outputs": [],
   "source": [
    "ctoi = newtransg['material'].apply(set).to_dict()"
   ]
  },
  {
   "cell_type": "markdown",
   "metadata": {},
   "source": [
    "now just a small cycle"
   ]
  },
  {
   "cell_type": "markdown",
   "metadata": {},
   "source": [
    "What we need:\n",
    "1. Checks to total money - DONE dmoni\n",
    "2. Users to favorite item - DONE ctom \n",
    "3. Checks to users. - DONE cltoch\n",
    "4. Checks to items. - DONE ctoi"
   ]
  },
  {
   "cell_type": "code",
   "execution_count": 158,
   "metadata": {},
   "outputs": [],
   "source": [
    "total = sum(list(dmoni.values()))"
   ]
  },
  {
   "cell_type": "code",
   "execution_count": 152,
   "metadata": {},
   "outputs": [],
   "source": [
    "total_loss = 0\n",
    "for check in checks:\n",
    "    us = cltoch[check]\n",
    "    purch = ctoi[check]\n",
    "    fav = ctom[us]\n",
    "    if fav not in purch:\n",
    "        total_loss += dmoni[check]"
   ]
  },
  {
   "cell_type": "code",
   "execution_count": 157,
   "metadata": {},
   "outputs": [
    {
     "name": "stdout",
     "output_type": "stream",
     "text": [
      "3738672441.210118\n"
     ]
    }
   ],
   "source": [
    "print(total_loss)"
   ]
  },
  {
   "cell_type": "code",
   "execution_count": 159,
   "metadata": {},
   "outputs": [
    {
     "data": {
      "text/plain": [
       "0.9474999633047577"
      ]
     },
     "execution_count": 159,
     "metadata": {},
     "output_type": "execute_result"
    }
   ],
   "source": [
    "total_loss/total"
   ]
  },
  {
   "cell_type": "markdown",
   "metadata": {},
   "source": [
    "## by year sum"
   ]
  },
  {
   "cell_type": "code",
   "execution_count": 160,
   "metadata": {},
   "outputs": [],
   "source": [
    "# sort by year sum - NEW\n",
    "clientmat_sum = transactions_data.loc[:,['client_id','material','sales_sum']]\n",
    "n = clientmat_sum.groupby(['client_id','material']).sum()\n"
   ]
  },
  {
   "cell_type": "code",
   "execution_count": 161,
   "metadata": {},
   "outputs": [
    {
     "data": {
      "text/plain": [
       "client_id                         material                        \n",
       "0000d48a8891cd462fdf01ea861ec53e  254f1eba1181248807d128842b566bf9     3429.98\n",
       "00028a1dcb30863404a386961a69300e  f4a21669aa5b022fbf7283a6f87b8ef9     2027.21\n",
       "0004274683494a9eca5e70ef97299d55  ba54c7d001d4bb0627e1d1b688dbea25     4047.09\n",
       "00072f81efcb3481861f7300c5e2a88a  a6bf08b37ae336044b9af3826cb50429      989.64\n",
       "00076596eb749cf10c2e984621dffe95  6278f48a43fb0a23036b3a11c92e726c    10637.55\n",
       "                                                                        ...   \n",
       "fffb2f36eb72ff56d2ef7a2685714f01  83636e1388222368230b84427f368321     4151.95\n",
       "fffb50df95231c0f090b5aa3f5332c7f  753e100607ecf3e68098739b81e0a645      805.25\n",
       "fffc3f2be1422d248dbeda4196ef0711  95237d664ede7d510294b5090dd2b0af     6149.16\n",
       "fffc477269ae5f219e39aa51fa7abb81  08cc0fb581c8193229f420ad4557d3f1     5983.06\n",
       "fffd3e78e3ea6bf00aee1372efc09dad  ccb92be59ce7e5f3371b0dea5e871a9b      304.81\n",
       "Name: sales_sum, Length: 100000, dtype: float64"
      ]
     },
     "execution_count": 161,
     "metadata": {},
     "output_type": "execute_result"
    }
   ],
   "source": [
    "m = n['sales_sum'].groupby(level=0, group_keys=False)\n",
    "ress = m.apply(lambda x: x.sort_values(ascending=False).head(1))\n",
    "ress # the most expensive item within a year for each customer"
   ]
  },
  {
   "cell_type": "code",
   "execution_count": 162,
   "metadata": {},
   "outputs": [
    {
     "name": "stdout",
     "output_type": "stream",
     "text": [
      "100000\n",
      "18418\n"
     ]
    }
   ],
   "source": [
    "d =  ress.index.get_level_values('material')\n",
    "exp_materials = d.tolist()\n",
    "type(exp_materials)\n",
    "print(len(exp_materials))\n",
    "new_fav_items = []\n",
    "for i in exp_materials:\n",
    "    if i not in new_fav_items: \n",
    "        new_fav_items.append(i) \n",
    "print(len(new_fav_items))"
   ]
  },
  {
   "cell_type": "code",
   "execution_count": null,
   "metadata": {},
   "outputs": [],
   "source": []
  }
 ],
 "metadata": {
  "accelerator": "GPU",
  "colab": {
   "collapsed_sections": [],
   "name": "22.ipynb",
   "provenance": []
  },
  "kernelspec": {
   "display_name": "Python 3",
   "language": "python",
   "name": "python3"
  },
  "language_info": {
   "codemirror_mode": {
    "name": "ipython",
    "version": 3
   },
   "file_extension": ".py",
   "mimetype": "text/x-python",
   "name": "python",
   "nbconvert_exporter": "python",
   "pygments_lexer": "ipython3",
   "version": "3.7.4"
  }
 },
 "nbformat": 4,
 "nbformat_minor": 1
}
